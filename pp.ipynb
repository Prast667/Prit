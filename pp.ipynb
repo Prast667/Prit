{
  "nbformat": 4,
  "nbformat_minor": 0,
  "metadata": {
    "colab": {
      "provenance": [],
      "authorship_tag": "ABX9TyMLmRKULNJyGGvezu1JiKQh",
      "include_colab_link": true
    },
    "kernelspec": {
      "name": "python3",
      "display_name": "Python 3"
    },
    "language_info": {
      "name": "python"
    }
  },
  "cells": [
    {
      "cell_type": "markdown",
      "metadata": {
        "id": "view-in-github",
        "colab_type": "text"
      },
      "source": [
        "<a href=\"https://colab.research.google.com/github/Prast667/Prit/blob/main/pp.ipynb\" target=\"_parent\"><img src=\"https://colab.research.google.com/assets/colab-badge.svg\" alt=\"Open In Colab\"/></a>"
      ]
    },
    {
      "cell_type": "code",
      "execution_count": 12,
      "metadata": {
        "colab": {
          "base_uri": "https://localhost:8080/"
        },
        "id": "cmoNw_2uvzDN",
        "outputId": "578944ec-6636-4044-b894-874629bd5a92"
      },
      "outputs": [
        {
          "output_type": "stream",
          "name": "stdout",
          "text": [
            "Menghubungkan Google Drive...\n",
            "Drive already mounted at /content/drive; to attempt to forcibly remount, call drive.mount(\"/content/drive\", force_remount=True).\n",
            "Mengekstrak /content/drive/MyDrive/Sinta 2.zip ke /content/data_sampah/...\n",
            "Ekstraksi selesai!\n",
            "\n",
            "Verifikasi Path TRAIN: /content/data_sampah/Sinta 2/Train\n",
            "Isi dari TRAIN_DIR: ['Anorganik', 'Organik']\n"
          ]
        }
      ],
      "source": [
        "import os\n",
        "import zipfile\n",
        "from google.colab import drive\n",
        "\n",
        "# --- KODE SETUP AWAL ---\n",
        "print(\"Menghubungkan Google Drive...\")\n",
        "drive.mount('/content/drive')\n",
        "\n",
        "zip_path = '/content/drive/MyDrive/Sinta 2.zip'\n",
        "extract_dir = '/content/data_sampah/'\n",
        "FOLDER_INDUK = 'Sinta 2' # NAMA FOLDER INDUK YANG BARU DITEMUKAN\n",
        "\n",
        "# Membuat direktori ekstraksi jika belum ada\n",
        "if not os.path.exists(extract_dir):\n",
        "    os.makedirs(extract_dir)\n",
        "\n",
        "print(f\"Mengekstrak {zip_path} ke {extract_dir}...\")\n",
        "with zipfile.ZipFile(zip_path, 'r') as zip_ref:\n",
        "    zip_ref.extractall(extract_dir)\n",
        "\n",
        "print(\"Ekstraksi selesai!\")\n",
        "\n",
        "# --- PENYESUAIAN PATH FINAL ---\n",
        "\n",
        "# Path TRAIN dan TEST sekarang harus melalui FOLDER_INDUK\n",
        "TRAIN_DIR = os.path.join(extract_dir, FOLDER_INDUK, 'Train')\n",
        "TEST_DIR = os.path.join(extract_dir, FOLDER_INDUK, 'Test')\n",
        "\n",
        "# Verifikasi Path\n",
        "print(f\"\\nVerifikasi Path TRAIN: {TRAIN_DIR}\")\n",
        "print(f\"Isi dari TRAIN_DIR: {os.listdir(TRAIN_DIR)}\")\n",
        "# Output harusnya ['Organik', 'Anorganik'] atau nama kelas Anda yang sebenarnya"
      ]
    },
    {
      "cell_type": "code",
      "source": [
        "from tensorflow.keras.preprocessing.image import ImageDataGenerator\n",
        "\n",
        "IMG_SIZE = (224, 224)\n",
        "BATCH_SIZE = 32\n",
        "\n",
        "# =======================================================\n",
        "# IMAGE DATA GENERATOR UNTUK DATA TRAINING (AUGMENTASI)\n",
        "# =======================================================\n",
        "train_datagen = ImageDataGenerator(\n",
        "    rescale=1./255,                 # Normalisasi Wajib\n",
        "    rotation_range=15,              # Rotasi antara -15 dan 15 derajat\n",
        "    width_shift_range=0.1,\n",
        "    height_shift_range=0.1,\n",
        "    horizontal_flip=True,           # Rotate horizontal\n",
        "    vertical_flip=True,             # Rotate vertical\n",
        "    shear_range=0.2,\n",
        "    zoom_range=0.2,\n",
        "    fill_mode='nearest'\n",
        ")\n",
        "\n",
        "# =======================================================\n",
        "# IMAGE DATA GENERATOR UNTUK DATA TESTING (HANYA NORMALISASI)\n",
        "# =======================================================\n",
        "test_datagen = ImageDataGenerator(rescale=1./255)\n",
        "\n",
        "\n",
        "# =======================================================\n",
        "# PEMUATAN DATA (GENERATOR)\n",
        "# =======================================================\n",
        "try:\n",
        "    # Training Generator\n",
        "    train_generator = train_datagen.flow_from_directory(\n",
        "        TRAIN_DIR,\n",
        "        target_size=IMG_SIZE,\n",
        "        batch_size=BATCH_SIZE,\n",
        "        class_mode='binary'\n",
        "    )\n",
        "\n",
        "    # Test/Validation Generator\n",
        "    test_generator = test_datagen.flow_from_directory(\n",
        "        TEST_DIR,\n",
        "        target_size=IMG_SIZE,\n",
        "        batch_size=BATCH_SIZE,\n",
        "        class_mode='binary'\n",
        "    )\n",
        "\n",
        "    print(\"\\n✅ Data Generator berhasil dibuat!\")\n",
        "    print(f\"Total gambar train: {train_generator.samples}\")\n",
        "    print(f\"Total gambar test: {test_generator.samples}\")\n",
        "\n",
        "except Exception as e:\n",
        "    # Jika masih gagal, mungkin nama folder kelas (Organik/Anorganik) tidak cocok\n",
        "    print(f\"\\n❌ GAGAL MEMUAT GENERATOR. Periksa kembali struktur folder di: {TRAIN_DIR}\")\n",
        "    print(f\"Error: {e}\")"
      ],
      "metadata": {
        "colab": {
          "base_uri": "https://localhost:8080/"
        },
        "id": "NX_BfinI2nLc",
        "outputId": "f31f10cd-8ea4-4283-9469-2c6a9a7b23e8"
      },
      "execution_count": 13,
      "outputs": [
        {
          "output_type": "stream",
          "name": "stdout",
          "text": [
            "Found 1767 images belonging to 2 classes.\n",
            "Found 428 images belonging to 2 classes.\n",
            "\n",
            "✅ Data Generator berhasil dibuat!\n",
            "Total gambar train: 1767\n",
            "Total gambar test: 428\n"
          ]
        }
      ]
    },
    {
      "cell_type": "code",
      "source": [
        "import tensorflow as tf\n",
        "from tensorflow.keras.models import Model\n",
        "from tensorflow.keras.layers import Dense, GlobalAveragePooling2D\n",
        "from tensorflow.keras.optimizers import Adam\n",
        "from tensorflow.keras.callbacks import EarlyStopping, ModelCheckpoint\n",
        "\n",
        "# Tentukan ukuran input yang umum\n",
        "IMG_SIZE = (224, 224)\n",
        "\n",
        "def build_transfer_model(base_model_func, input_shape, model_name, learning_rate=1e-4):\n",
        "    \"\"\"Membangun model Transfer Learning.\"\"\"\n",
        "\n",
        "    # Memuat model pra-latih (ImageNet weights) tanpa lapisan Fully Connected\n",
        "    base_model = base_model_func(weights='imagenet',\n",
        "                                 include_top=False,\n",
        "                                 input_shape=input_shape)\n",
        "\n",
        "    # Membekukan lapisan dasar (Feature Extraction)\n",
        "    base_model.trainable = False\n",
        "\n",
        "    # Menambahkan lapisan klasifikasi kustom di atas\n",
        "    x = base_model.output\n",
        "    x = GlobalAveragePooling2D(name='global_average_pooling')(x)\n",
        "    x = Dense(256, activation='relu', name='custom_dense_1')(x)\n",
        "    predictions = Dense(1, activation='sigmoid', name='output_layer')(x) # Output biner\n",
        "\n",
        "    # Menggabungkan model dasar dan lapisan baru\n",
        "    model = Model(inputs=base_model.input, outputs=predictions, name=model_name)\n",
        "\n",
        "    # Mengkompilasi model\n",
        "    model.compile(optimizer=Adam(learning_rate=learning_rate),\n",
        "                  loss='binary_crossentropy',\n",
        "                  metrics=['accuracy'])\n",
        "\n",
        "    return model\n",
        "\n",
        "# Mendefinisikan Callbacks untuk semua model\n",
        "# Early Stopping: Menghentikan training jika validasi akurasi tidak membaik\n",
        "early_stopping = EarlyStopping(monitor='val_accuracy',\n",
        "                               patience=5,\n",
        "                               restore_best_weights=True)\n",
        "\n",
        "# Model Checkpoint: Menyimpan model terbaik\n",
        "# Ganti nama file ini saat training model yang berbeda\n",
        "# checkpoint = ModelCheckpoint('best_model_NAME.h5', monitor='val_accuracy', save_best_only=True)"
      ],
      "metadata": {
        "id": "y-ctMtgV3btV"
      },
      "execution_count": 14,
      "outputs": []
    },
    {
      "cell_type": "code",
      "source": [
        "from tensorflow.keras.applications import ResNet50\n",
        "\n",
        "print(\"\\n--- Melatih ResNet50 ---\")\n",
        "resnet_model = build_transfer_model(ResNet50, IMG_SIZE + (3,), 'ResNet50_Transfer')\n",
        "\n",
        "# Tampilkan ringkasan model\n",
        "# resnet_model.summary()\n",
        "\n",
        "resnet_history = resnet_model.fit(\n",
        "    train_generator,\n",
        "    epochs=50, # Jumlah epochs bisa disesuaikan\n",
        "    validation_data=test_generator,\n",
        "    callbacks=[early_stopping], # Tambahkan callback\n",
        "    verbose=1\n",
        ")"
      ],
      "metadata": {
        "colab": {
          "base_uri": "https://localhost:8080/",
          "height": 534
        },
        "id": "-XNi9bW07_iM",
        "outputId": "cee9639f-fab3-474c-d70d-8bff8b16c1a6"
      },
      "execution_count": 15,
      "outputs": [
        {
          "output_type": "stream",
          "name": "stdout",
          "text": [
            "\n",
            "--- Melatih ResNet50 ---\n",
            "Downloading data from https://storage.googleapis.com/tensorflow/keras-applications/resnet/resnet50_weights_tf_dim_ordering_tf_kernels_notop.h5\n",
            "\u001b[1m94765736/94765736\u001b[0m \u001b[32m━━━━━━━━━━━━━━━━━━━━\u001b[0m\u001b[37m\u001b[0m \u001b[1m3s\u001b[0m 0us/step\n"
          ]
        },
        {
          "output_type": "stream",
          "name": "stderr",
          "text": [
            "/usr/local/lib/python3.12/dist-packages/keras/src/trainers/data_adapters/py_dataset_adapter.py:121: UserWarning: Your `PyDataset` class should call `super().__init__(**kwargs)` in its constructor. `**kwargs` can include `workers`, `use_multiprocessing`, `max_queue_size`. Do not pass these arguments to `fit()`, as they will be ignored.\n",
            "  self._warn_if_super_not_called()\n"
          ]
        },
        {
          "output_type": "stream",
          "name": "stdout",
          "text": [
            "Epoch 1/50\n",
            "\u001b[1m 5/56\u001b[0m \u001b[32m━\u001b[0m\u001b[37m━━━━━━━━━━━━━━━━━━━\u001b[0m \u001b[1m4:16\u001b[0m 5s/step - accuracy: 0.4920 - loss: 0.7660"
          ]
        },
        {
          "output_type": "error",
          "ename": "KeyboardInterrupt",
          "evalue": "",
          "traceback": [
            "\u001b[0;31m---------------------------------------------------------------------------\u001b[0m",
            "\u001b[0;31mKeyboardInterrupt\u001b[0m                         Traceback (most recent call last)",
            "\u001b[0;32m/tmp/ipython-input-1816798533.py\u001b[0m in \u001b[0;36m<cell line: 0>\u001b[0;34m()\u001b[0m\n\u001b[1;32m      7\u001b[0m \u001b[0;31m# resnet_model.summary()\u001b[0m\u001b[0;34m\u001b[0m\u001b[0;34m\u001b[0m\u001b[0m\n\u001b[1;32m      8\u001b[0m \u001b[0;34m\u001b[0m\u001b[0m\n\u001b[0;32m----> 9\u001b[0;31m resnet_history = resnet_model.fit(\n\u001b[0m\u001b[1;32m     10\u001b[0m     \u001b[0mtrain_generator\u001b[0m\u001b[0;34m,\u001b[0m\u001b[0;34m\u001b[0m\u001b[0;34m\u001b[0m\u001b[0m\n\u001b[1;32m     11\u001b[0m     \u001b[0mepochs\u001b[0m\u001b[0;34m=\u001b[0m\u001b[0;36m50\u001b[0m\u001b[0;34m,\u001b[0m \u001b[0;31m# Jumlah epochs bisa disesuaikan\u001b[0m\u001b[0;34m\u001b[0m\u001b[0;34m\u001b[0m\u001b[0m\n",
            "\u001b[0;32m/usr/local/lib/python3.12/dist-packages/keras/src/utils/traceback_utils.py\u001b[0m in \u001b[0;36merror_handler\u001b[0;34m(*args, **kwargs)\u001b[0m\n\u001b[1;32m    115\u001b[0m         \u001b[0mfiltered_tb\u001b[0m \u001b[0;34m=\u001b[0m \u001b[0;32mNone\u001b[0m\u001b[0;34m\u001b[0m\u001b[0;34m\u001b[0m\u001b[0m\n\u001b[1;32m    116\u001b[0m         \u001b[0;32mtry\u001b[0m\u001b[0;34m:\u001b[0m\u001b[0;34m\u001b[0m\u001b[0;34m\u001b[0m\u001b[0m\n\u001b[0;32m--> 117\u001b[0;31m             \u001b[0;32mreturn\u001b[0m \u001b[0mfn\u001b[0m\u001b[0;34m(\u001b[0m\u001b[0;34m*\u001b[0m\u001b[0margs\u001b[0m\u001b[0;34m,\u001b[0m \u001b[0;34m**\u001b[0m\u001b[0mkwargs\u001b[0m\u001b[0;34m)\u001b[0m\u001b[0;34m\u001b[0m\u001b[0;34m\u001b[0m\u001b[0m\n\u001b[0m\u001b[1;32m    118\u001b[0m         \u001b[0;32mexcept\u001b[0m \u001b[0mException\u001b[0m \u001b[0;32mas\u001b[0m \u001b[0me\u001b[0m\u001b[0;34m:\u001b[0m\u001b[0;34m\u001b[0m\u001b[0;34m\u001b[0m\u001b[0m\n\u001b[1;32m    119\u001b[0m             \u001b[0mfiltered_tb\u001b[0m \u001b[0;34m=\u001b[0m \u001b[0m_process_traceback_frames\u001b[0m\u001b[0;34m(\u001b[0m\u001b[0me\u001b[0m\u001b[0;34m.\u001b[0m\u001b[0m__traceback__\u001b[0m\u001b[0;34m)\u001b[0m\u001b[0;34m\u001b[0m\u001b[0;34m\u001b[0m\u001b[0m\n",
            "\u001b[0;32m/usr/local/lib/python3.12/dist-packages/keras/src/backend/tensorflow/trainer.py\u001b[0m in \u001b[0;36mfit\u001b[0;34m(self, x, y, batch_size, epochs, verbose, callbacks, validation_split, validation_data, shuffle, class_weight, sample_weight, initial_epoch, steps_per_epoch, validation_steps, validation_batch_size, validation_freq)\u001b[0m\n\u001b[1;32m    375\u001b[0m                 \u001b[0;32mfor\u001b[0m \u001b[0mstep\u001b[0m\u001b[0;34m,\u001b[0m \u001b[0miterator\u001b[0m \u001b[0;32min\u001b[0m \u001b[0mepoch_iterator\u001b[0m\u001b[0;34m:\u001b[0m\u001b[0;34m\u001b[0m\u001b[0;34m\u001b[0m\u001b[0m\n\u001b[1;32m    376\u001b[0m                     \u001b[0mcallbacks\u001b[0m\u001b[0;34m.\u001b[0m\u001b[0mon_train_batch_begin\u001b[0m\u001b[0;34m(\u001b[0m\u001b[0mstep\u001b[0m\u001b[0;34m)\u001b[0m\u001b[0;34m\u001b[0m\u001b[0;34m\u001b[0m\u001b[0m\n\u001b[0;32m--> 377\u001b[0;31m                     \u001b[0mlogs\u001b[0m \u001b[0;34m=\u001b[0m \u001b[0mself\u001b[0m\u001b[0;34m.\u001b[0m\u001b[0mtrain_function\u001b[0m\u001b[0;34m(\u001b[0m\u001b[0miterator\u001b[0m\u001b[0;34m)\u001b[0m\u001b[0;34m\u001b[0m\u001b[0;34m\u001b[0m\u001b[0m\n\u001b[0m\u001b[1;32m    378\u001b[0m                     \u001b[0mcallbacks\u001b[0m\u001b[0;34m.\u001b[0m\u001b[0mon_train_batch_end\u001b[0m\u001b[0;34m(\u001b[0m\u001b[0mstep\u001b[0m\u001b[0;34m,\u001b[0m \u001b[0mlogs\u001b[0m\u001b[0;34m)\u001b[0m\u001b[0;34m\u001b[0m\u001b[0;34m\u001b[0m\u001b[0m\n\u001b[1;32m    379\u001b[0m                     \u001b[0;32mif\u001b[0m \u001b[0mself\u001b[0m\u001b[0;34m.\u001b[0m\u001b[0mstop_training\u001b[0m\u001b[0;34m:\u001b[0m\u001b[0;34m\u001b[0m\u001b[0;34m\u001b[0m\u001b[0m\n",
            "\u001b[0;32m/usr/local/lib/python3.12/dist-packages/keras/src/backend/tensorflow/trainer.py\u001b[0m in \u001b[0;36mfunction\u001b[0;34m(iterator)\u001b[0m\n\u001b[1;32m    218\u001b[0m                 \u001b[0miterator\u001b[0m\u001b[0;34m,\u001b[0m \u001b[0;34m(\u001b[0m\u001b[0mtf\u001b[0m\u001b[0;34m.\u001b[0m\u001b[0mdata\u001b[0m\u001b[0;34m.\u001b[0m\u001b[0mIterator\u001b[0m\u001b[0;34m,\u001b[0m \u001b[0mtf\u001b[0m\u001b[0;34m.\u001b[0m\u001b[0mdistribute\u001b[0m\u001b[0;34m.\u001b[0m\u001b[0mDistributedIterator\u001b[0m\u001b[0;34m)\u001b[0m\u001b[0;34m\u001b[0m\u001b[0;34m\u001b[0m\u001b[0m\n\u001b[1;32m    219\u001b[0m             ):\n\u001b[0;32m--> 220\u001b[0;31m                 \u001b[0mopt_outputs\u001b[0m \u001b[0;34m=\u001b[0m \u001b[0mmulti_step_on_iterator\u001b[0m\u001b[0;34m(\u001b[0m\u001b[0miterator\u001b[0m\u001b[0;34m)\u001b[0m\u001b[0;34m\u001b[0m\u001b[0;34m\u001b[0m\u001b[0m\n\u001b[0m\u001b[1;32m    221\u001b[0m                 \u001b[0;32mif\u001b[0m \u001b[0;32mnot\u001b[0m \u001b[0mopt_outputs\u001b[0m\u001b[0;34m.\u001b[0m\u001b[0mhas_value\u001b[0m\u001b[0;34m(\u001b[0m\u001b[0;34m)\u001b[0m\u001b[0;34m:\u001b[0m\u001b[0;34m\u001b[0m\u001b[0;34m\u001b[0m\u001b[0m\n\u001b[1;32m    222\u001b[0m                     \u001b[0;32mraise\u001b[0m \u001b[0mStopIteration\u001b[0m\u001b[0;34m\u001b[0m\u001b[0;34m\u001b[0m\u001b[0m\n",
            "\u001b[0;32m/usr/local/lib/python3.12/dist-packages/tensorflow/python/util/traceback_utils.py\u001b[0m in \u001b[0;36merror_handler\u001b[0;34m(*args, **kwargs)\u001b[0m\n\u001b[1;32m    148\u001b[0m     \u001b[0mfiltered_tb\u001b[0m \u001b[0;34m=\u001b[0m \u001b[0;32mNone\u001b[0m\u001b[0;34m\u001b[0m\u001b[0;34m\u001b[0m\u001b[0m\n\u001b[1;32m    149\u001b[0m     \u001b[0;32mtry\u001b[0m\u001b[0;34m:\u001b[0m\u001b[0;34m\u001b[0m\u001b[0;34m\u001b[0m\u001b[0m\n\u001b[0;32m--> 150\u001b[0;31m       \u001b[0;32mreturn\u001b[0m \u001b[0mfn\u001b[0m\u001b[0;34m(\u001b[0m\u001b[0;34m*\u001b[0m\u001b[0margs\u001b[0m\u001b[0;34m,\u001b[0m \u001b[0;34m**\u001b[0m\u001b[0mkwargs\u001b[0m\u001b[0;34m)\u001b[0m\u001b[0;34m\u001b[0m\u001b[0;34m\u001b[0m\u001b[0m\n\u001b[0m\u001b[1;32m    151\u001b[0m     \u001b[0;32mexcept\u001b[0m \u001b[0mException\u001b[0m \u001b[0;32mas\u001b[0m \u001b[0me\u001b[0m\u001b[0;34m:\u001b[0m\u001b[0;34m\u001b[0m\u001b[0;34m\u001b[0m\u001b[0m\n\u001b[1;32m    152\u001b[0m       \u001b[0mfiltered_tb\u001b[0m \u001b[0;34m=\u001b[0m \u001b[0m_process_traceback_frames\u001b[0m\u001b[0;34m(\u001b[0m\u001b[0me\u001b[0m\u001b[0;34m.\u001b[0m\u001b[0m__traceback__\u001b[0m\u001b[0;34m)\u001b[0m\u001b[0;34m\u001b[0m\u001b[0;34m\u001b[0m\u001b[0m\n",
            "\u001b[0;32m/usr/local/lib/python3.12/dist-packages/tensorflow/python/eager/polymorphic_function/polymorphic_function.py\u001b[0m in \u001b[0;36m__call__\u001b[0;34m(self, *args, **kwds)\u001b[0m\n\u001b[1;32m    831\u001b[0m \u001b[0;34m\u001b[0m\u001b[0m\n\u001b[1;32m    832\u001b[0m       \u001b[0;32mwith\u001b[0m \u001b[0mOptionalXlaContext\u001b[0m\u001b[0;34m(\u001b[0m\u001b[0mself\u001b[0m\u001b[0;34m.\u001b[0m\u001b[0m_jit_compile\u001b[0m\u001b[0;34m)\u001b[0m\u001b[0;34m:\u001b[0m\u001b[0;34m\u001b[0m\u001b[0;34m\u001b[0m\u001b[0m\n\u001b[0;32m--> 833\u001b[0;31m         \u001b[0mresult\u001b[0m \u001b[0;34m=\u001b[0m \u001b[0mself\u001b[0m\u001b[0;34m.\u001b[0m\u001b[0m_call\u001b[0m\u001b[0;34m(\u001b[0m\u001b[0;34m*\u001b[0m\u001b[0margs\u001b[0m\u001b[0;34m,\u001b[0m \u001b[0;34m**\u001b[0m\u001b[0mkwds\u001b[0m\u001b[0;34m)\u001b[0m\u001b[0;34m\u001b[0m\u001b[0;34m\u001b[0m\u001b[0m\n\u001b[0m\u001b[1;32m    834\u001b[0m \u001b[0;34m\u001b[0m\u001b[0m\n\u001b[1;32m    835\u001b[0m       \u001b[0mnew_tracing_count\u001b[0m \u001b[0;34m=\u001b[0m \u001b[0mself\u001b[0m\u001b[0;34m.\u001b[0m\u001b[0mexperimental_get_tracing_count\u001b[0m\u001b[0;34m(\u001b[0m\u001b[0;34m)\u001b[0m\u001b[0;34m\u001b[0m\u001b[0;34m\u001b[0m\u001b[0m\n",
            "\u001b[0;32m/usr/local/lib/python3.12/dist-packages/tensorflow/python/eager/polymorphic_function/polymorphic_function.py\u001b[0m in \u001b[0;36m_call\u001b[0;34m(self, *args, **kwds)\u001b[0m\n\u001b[1;32m    876\u001b[0m       \u001b[0;31m# In this case we have not created variables on the first call. So we can\u001b[0m\u001b[0;34m\u001b[0m\u001b[0;34m\u001b[0m\u001b[0m\n\u001b[1;32m    877\u001b[0m       \u001b[0;31m# run the first trace but we should fail if variables are created.\u001b[0m\u001b[0;34m\u001b[0m\u001b[0;34m\u001b[0m\u001b[0m\n\u001b[0;32m--> 878\u001b[0;31m       results = tracing_compilation.call_function(\n\u001b[0m\u001b[1;32m    879\u001b[0m           \u001b[0margs\u001b[0m\u001b[0;34m,\u001b[0m \u001b[0mkwds\u001b[0m\u001b[0;34m,\u001b[0m \u001b[0mself\u001b[0m\u001b[0;34m.\u001b[0m\u001b[0m_variable_creation_config\u001b[0m\u001b[0;34m\u001b[0m\u001b[0;34m\u001b[0m\u001b[0m\n\u001b[1;32m    880\u001b[0m       )\n",
            "\u001b[0;32m/usr/local/lib/python3.12/dist-packages/tensorflow/python/eager/polymorphic_function/tracing_compilation.py\u001b[0m in \u001b[0;36mcall_function\u001b[0;34m(args, kwargs, tracing_options)\u001b[0m\n\u001b[1;32m    137\u001b[0m   \u001b[0mbound_args\u001b[0m \u001b[0;34m=\u001b[0m \u001b[0mfunction\u001b[0m\u001b[0;34m.\u001b[0m\u001b[0mfunction_type\u001b[0m\u001b[0;34m.\u001b[0m\u001b[0mbind\u001b[0m\u001b[0;34m(\u001b[0m\u001b[0;34m*\u001b[0m\u001b[0margs\u001b[0m\u001b[0;34m,\u001b[0m \u001b[0;34m**\u001b[0m\u001b[0mkwargs\u001b[0m\u001b[0;34m)\u001b[0m\u001b[0;34m\u001b[0m\u001b[0;34m\u001b[0m\u001b[0m\n\u001b[1;32m    138\u001b[0m   \u001b[0mflat_inputs\u001b[0m \u001b[0;34m=\u001b[0m \u001b[0mfunction\u001b[0m\u001b[0;34m.\u001b[0m\u001b[0mfunction_type\u001b[0m\u001b[0;34m.\u001b[0m\u001b[0munpack_inputs\u001b[0m\u001b[0;34m(\u001b[0m\u001b[0mbound_args\u001b[0m\u001b[0;34m)\u001b[0m\u001b[0;34m\u001b[0m\u001b[0;34m\u001b[0m\u001b[0m\n\u001b[0;32m--> 139\u001b[0;31m   return function._call_flat(  # pylint: disable=protected-access\n\u001b[0m\u001b[1;32m    140\u001b[0m       \u001b[0mflat_inputs\u001b[0m\u001b[0;34m,\u001b[0m \u001b[0mcaptured_inputs\u001b[0m\u001b[0;34m=\u001b[0m\u001b[0mfunction\u001b[0m\u001b[0;34m.\u001b[0m\u001b[0mcaptured_inputs\u001b[0m\u001b[0;34m\u001b[0m\u001b[0;34m\u001b[0m\u001b[0m\n\u001b[1;32m    141\u001b[0m   )\n",
            "\u001b[0;32m/usr/local/lib/python3.12/dist-packages/tensorflow/python/eager/polymorphic_function/concrete_function.py\u001b[0m in \u001b[0;36m_call_flat\u001b[0;34m(self, tensor_inputs, captured_inputs)\u001b[0m\n\u001b[1;32m   1320\u001b[0m         and executing_eagerly):\n\u001b[1;32m   1321\u001b[0m       \u001b[0;31m# No tape is watching; skip to running the function.\u001b[0m\u001b[0;34m\u001b[0m\u001b[0;34m\u001b[0m\u001b[0m\n\u001b[0;32m-> 1322\u001b[0;31m       \u001b[0;32mreturn\u001b[0m \u001b[0mself\u001b[0m\u001b[0;34m.\u001b[0m\u001b[0m_inference_function\u001b[0m\u001b[0;34m.\u001b[0m\u001b[0mcall_preflattened\u001b[0m\u001b[0;34m(\u001b[0m\u001b[0margs\u001b[0m\u001b[0;34m)\u001b[0m\u001b[0;34m\u001b[0m\u001b[0;34m\u001b[0m\u001b[0m\n\u001b[0m\u001b[1;32m   1323\u001b[0m     forward_backward = self._select_forward_and_backward_functions(\n\u001b[1;32m   1324\u001b[0m         \u001b[0margs\u001b[0m\u001b[0;34m,\u001b[0m\u001b[0;34m\u001b[0m\u001b[0;34m\u001b[0m\u001b[0m\n",
            "\u001b[0;32m/usr/local/lib/python3.12/dist-packages/tensorflow/python/eager/polymorphic_function/atomic_function.py\u001b[0m in \u001b[0;36mcall_preflattened\u001b[0;34m(self, args)\u001b[0m\n\u001b[1;32m    214\u001b[0m   \u001b[0;32mdef\u001b[0m \u001b[0mcall_preflattened\u001b[0m\u001b[0;34m(\u001b[0m\u001b[0mself\u001b[0m\u001b[0;34m,\u001b[0m \u001b[0margs\u001b[0m\u001b[0;34m:\u001b[0m \u001b[0mSequence\u001b[0m\u001b[0;34m[\u001b[0m\u001b[0mcore\u001b[0m\u001b[0;34m.\u001b[0m\u001b[0mTensor\u001b[0m\u001b[0;34m]\u001b[0m\u001b[0;34m)\u001b[0m \u001b[0;34m->\u001b[0m \u001b[0mAny\u001b[0m\u001b[0;34m:\u001b[0m\u001b[0;34m\u001b[0m\u001b[0;34m\u001b[0m\u001b[0m\n\u001b[1;32m    215\u001b[0m     \u001b[0;34m\"\"\"Calls with flattened tensor inputs and returns the structured output.\"\"\"\u001b[0m\u001b[0;34m\u001b[0m\u001b[0;34m\u001b[0m\u001b[0m\n\u001b[0;32m--> 216\u001b[0;31m     \u001b[0mflat_outputs\u001b[0m \u001b[0;34m=\u001b[0m \u001b[0mself\u001b[0m\u001b[0;34m.\u001b[0m\u001b[0mcall_flat\u001b[0m\u001b[0;34m(\u001b[0m\u001b[0;34m*\u001b[0m\u001b[0margs\u001b[0m\u001b[0;34m)\u001b[0m\u001b[0;34m\u001b[0m\u001b[0;34m\u001b[0m\u001b[0m\n\u001b[0m\u001b[1;32m    217\u001b[0m     \u001b[0;32mreturn\u001b[0m \u001b[0mself\u001b[0m\u001b[0;34m.\u001b[0m\u001b[0mfunction_type\u001b[0m\u001b[0;34m.\u001b[0m\u001b[0mpack_output\u001b[0m\u001b[0;34m(\u001b[0m\u001b[0mflat_outputs\u001b[0m\u001b[0;34m)\u001b[0m\u001b[0;34m\u001b[0m\u001b[0;34m\u001b[0m\u001b[0m\n\u001b[1;32m    218\u001b[0m \u001b[0;34m\u001b[0m\u001b[0m\n",
            "\u001b[0;32m/usr/local/lib/python3.12/dist-packages/tensorflow/python/eager/polymorphic_function/atomic_function.py\u001b[0m in \u001b[0;36mcall_flat\u001b[0;34m(self, *args)\u001b[0m\n\u001b[1;32m    249\u001b[0m         \u001b[0;32mwith\u001b[0m \u001b[0mrecord\u001b[0m\u001b[0;34m.\u001b[0m\u001b[0mstop_recording\u001b[0m\u001b[0;34m(\u001b[0m\u001b[0;34m)\u001b[0m\u001b[0;34m:\u001b[0m\u001b[0;34m\u001b[0m\u001b[0;34m\u001b[0m\u001b[0m\n\u001b[1;32m    250\u001b[0m           \u001b[0;32mif\u001b[0m \u001b[0mself\u001b[0m\u001b[0;34m.\u001b[0m\u001b[0m_bound_context\u001b[0m\u001b[0;34m.\u001b[0m\u001b[0mexecuting_eagerly\u001b[0m\u001b[0;34m(\u001b[0m\u001b[0;34m)\u001b[0m\u001b[0;34m:\u001b[0m\u001b[0;34m\u001b[0m\u001b[0;34m\u001b[0m\u001b[0m\n\u001b[0;32m--> 251\u001b[0;31m             outputs = self._bound_context.call_function(\n\u001b[0m\u001b[1;32m    252\u001b[0m                 \u001b[0mself\u001b[0m\u001b[0;34m.\u001b[0m\u001b[0mname\u001b[0m\u001b[0;34m,\u001b[0m\u001b[0;34m\u001b[0m\u001b[0;34m\u001b[0m\u001b[0m\n\u001b[1;32m    253\u001b[0m                 \u001b[0mlist\u001b[0m\u001b[0;34m(\u001b[0m\u001b[0margs\u001b[0m\u001b[0;34m)\u001b[0m\u001b[0;34m,\u001b[0m\u001b[0;34m\u001b[0m\u001b[0;34m\u001b[0m\u001b[0m\n",
            "\u001b[0;32m/usr/local/lib/python3.12/dist-packages/tensorflow/python/eager/context.py\u001b[0m in \u001b[0;36mcall_function\u001b[0;34m(self, name, tensor_inputs, num_outputs)\u001b[0m\n\u001b[1;32m   1686\u001b[0m     \u001b[0mcancellation_context\u001b[0m \u001b[0;34m=\u001b[0m \u001b[0mcancellation\u001b[0m\u001b[0;34m.\u001b[0m\u001b[0mcontext\u001b[0m\u001b[0;34m(\u001b[0m\u001b[0;34m)\u001b[0m\u001b[0;34m\u001b[0m\u001b[0;34m\u001b[0m\u001b[0m\n\u001b[1;32m   1687\u001b[0m     \u001b[0;32mif\u001b[0m \u001b[0mcancellation_context\u001b[0m \u001b[0;32mis\u001b[0m \u001b[0;32mNone\u001b[0m\u001b[0;34m:\u001b[0m\u001b[0;34m\u001b[0m\u001b[0;34m\u001b[0m\u001b[0m\n\u001b[0;32m-> 1688\u001b[0;31m       outputs = execute.execute(\n\u001b[0m\u001b[1;32m   1689\u001b[0m           \u001b[0mname\u001b[0m\u001b[0;34m.\u001b[0m\u001b[0mdecode\u001b[0m\u001b[0;34m(\u001b[0m\u001b[0;34m\"utf-8\"\u001b[0m\u001b[0;34m)\u001b[0m\u001b[0;34m,\u001b[0m\u001b[0;34m\u001b[0m\u001b[0;34m\u001b[0m\u001b[0m\n\u001b[1;32m   1690\u001b[0m           \u001b[0mnum_outputs\u001b[0m\u001b[0;34m=\u001b[0m\u001b[0mnum_outputs\u001b[0m\u001b[0;34m,\u001b[0m\u001b[0;34m\u001b[0m\u001b[0;34m\u001b[0m\u001b[0m\n",
            "\u001b[0;32m/usr/local/lib/python3.12/dist-packages/tensorflow/python/eager/execute.py\u001b[0m in \u001b[0;36mquick_execute\u001b[0;34m(op_name, num_outputs, inputs, attrs, ctx, name)\u001b[0m\n\u001b[1;32m     51\u001b[0m   \u001b[0;32mtry\u001b[0m\u001b[0;34m:\u001b[0m\u001b[0;34m\u001b[0m\u001b[0;34m\u001b[0m\u001b[0m\n\u001b[1;32m     52\u001b[0m     \u001b[0mctx\u001b[0m\u001b[0;34m.\u001b[0m\u001b[0mensure_initialized\u001b[0m\u001b[0;34m(\u001b[0m\u001b[0;34m)\u001b[0m\u001b[0;34m\u001b[0m\u001b[0;34m\u001b[0m\u001b[0m\n\u001b[0;32m---> 53\u001b[0;31m     tensors = pywrap_tfe.TFE_Py_Execute(ctx._handle, device_name, op_name,\n\u001b[0m\u001b[1;32m     54\u001b[0m                                         inputs, attrs, num_outputs)\n\u001b[1;32m     55\u001b[0m   \u001b[0;32mexcept\u001b[0m \u001b[0mcore\u001b[0m\u001b[0;34m.\u001b[0m\u001b[0m_NotOkStatusException\u001b[0m \u001b[0;32mas\u001b[0m \u001b[0me\u001b[0m\u001b[0;34m:\u001b[0m\u001b[0;34m\u001b[0m\u001b[0;34m\u001b[0m\u001b[0m\n",
            "\u001b[0;31mKeyboardInterrupt\u001b[0m: "
          ]
        }
      ]
    },
    {
      "cell_type": "code",
      "source": [
        "from tensorflow.keras.applications import EfficientNetB0\n",
        "\n",
        "print(\"\\n--- Melatih EfficientNetB0 ---\")\n",
        "efficientnet_model = build_transfer_model(EfficientNetB0, IMG_SIZE + (3,), 'EfficientNetB0_Transfer')\n",
        "\n",
        "efficientnet_history = efficientnet_model.fit(\n",
        "    train_generator,\n",
        "    epochs=50,\n",
        "    validation_data=test_generator,\n",
        "    callbacks=[early_stopping],\n",
        "    verbose=1\n",
        ")"
      ],
      "metadata": {
        "id": "dNV7pf3n9G1i"
      },
      "execution_count": null,
      "outputs": []
    },
    {
      "cell_type": "code",
      "source": [
        "from tensorflow.keras.applications import DenseNet121\n",
        "\n",
        "print(\"\\n--- Melatih DenseNet121 ---\")\n",
        "densenet_model = build_transfer_model(DenseNet121, IMG_SIZE + (3,), 'DenseNet121_Transfer')\n",
        "\n",
        "densenet_history = densenet_model.fit(\n",
        "    train_generator,\n",
        "    epochs=50,\n",
        "    validation_data=test_generator,\n",
        "    callbacks=[early_stopping],\n",
        "    verbose=1\n",
        ")"
      ],
      "metadata": {
        "id": "LGpAtzUJ9IU0"
      },
      "execution_count": null,
      "outputs": []
    },
    {
      "cell_type": "code",
      "source": [
        "from tensorflow.keras.applications import MobileNetV2\n",
        "\n",
        "print(\"\\n--- Melatih MobileNetV2 ---\")\n",
        "mobilenet_model = build_transfer_model(MobileNetV2, IMG_SIZE + (3,), 'MobileNetV2_Transfer')\n",
        "\n",
        "mobilenet_history = mobilenet_model.fit(\n",
        "    train_generator,\n",
        "    epochs=50,\n",
        "    validation_data=test_generator,\n",
        "    callbacks=[early_stopping],\n",
        "    verbose=1\n",
        ")"
      ],
      "metadata": {
        "id": "UR5tVaKl9LRi"
      },
      "execution_count": null,
      "outputs": []
    },
    {
      "cell_type": "code",
      "source": [
        "from tensorflow.keras.applications import VGG16\n",
        "\n",
        "# VGG16 cenderung lebih lambat dan membutuhkan banyak memori\n",
        "print(\"\\n--- Melatih VGG16 ---\")\n",
        "vgg16_model = build_transfer_model(VGG16, IMG_SIZE + (3,), 'VGG16_Transfer')\n",
        "\n",
        "vgg16_history = vgg16_model.fit(\n",
        "    train_generator,\n",
        "    epochs=50,\n",
        "    validation_data=test_generator,\n",
        "    callbacks=[early_stopping],\n",
        "    verbose=1\n",
        ")"
      ],
      "metadata": {
        "id": "gnuz3UoE9S6Z"
      },
      "execution_count": null,
      "outputs": []
    },
    {
      "cell_type": "code",
      "source": [
        "from tensorflow.keras.applications import NASNetMobile\n",
        "\n",
        "print(\"\\n--- Melatih NASNetMobile ---\")\n",
        "nasnet_model = build_transfer_model(NASNetMobile, IMG_SIZE + (3,), 'NASNetMobile_Transfer')\n",
        "\n",
        "nasnet_history = nasnet_model.fit(\n",
        "    train_generator,\n",
        "    epochs=50,\n",
        "    validation_data=test_generator,\n",
        "    callbacks=[early_stopping],\n",
        "    verbose=1\n",
        ")"
      ],
      "metadata": {
        "id": "BsL0qOou9N7A"
      },
      "execution_count": null,
      "outputs": []
    },
    {
      "cell_type": "code",
      "source": [
        "import pandas as pd\n",
        "\n",
        "results = {\n",
        "    'Model': ['ResNet50', 'EfficientNetB0', 'DenseNet121', 'MobileNetV2', 'NASNetMobile', 'VGG16'],\n",
        "    'Validation Accuracy': [\n",
        "        max(resnet_history.history['val_accuracy']),\n",
        "        max(efficientnet_history.history['val_accuracy']),\n",
        "        max(densenet_history.history['val_accuracy']),\n",
        "        max(mobilenet_history.history['val_accuracy']),\n",
        "        max(nasnet_history.history['val_accuracy']),\n",
        "        max(vgg16_history.history['val_accuracy'])\n",
        "    ],\n",
        "    'Training Loss (Last Epoch)': [\n",
        "        resnet_history.history['loss'][-1],\n",
        "        efficientnet_history.history['loss'][-1],\n",
        "        densenet_history.history['loss'][-1],\n",
        "        mobilenet_history.history['loss'][-1],\n",
        "        nasnet_history.history['loss'][-1],\n",
        "        vgg16_history.history['loss'][-1]\n",
        "    ]\n",
        "}\n",
        "\n",
        "df_results = pd.DataFrame(results)\n",
        "print(\"\\n--- Hasil Perbandingan Model ---\")\n",
        "print(df_results.sort_values(by='Validation Accuracy', ascending=False))"
      ],
      "metadata": {
        "id": "3ceV5mCi9V6a"
      },
      "execution_count": null,
      "outputs": []
    },
    {
      "cell_type": "code",
      "source": [
        "import matplotlib.pyplot as plt\n",
        "\n",
        "# Kumpulkan semua history object ke dalam satu dictionary\n",
        "# GANTI DENGAN NAMA HISTORY OBJECT ANDA\n",
        "all_histories = {\n",
        "    \"ResNet50\": resnet_history,\n",
        "    \"EfficientNetB0\": efficientnet_history,\n",
        "    \"DenseNet121\": densenet_history,\n",
        "    \"MobileNetV2\": mobilenet_history,\n",
        "    \"NASNetMobile\": nasnet_history,\n",
        "    \"VGG16\": vgg16_history\n",
        "}\n",
        "\n",
        "plt.figure(figsize=(15, 6))\n",
        "\n",
        "# --- Plot Validation Accuracy ---\n",
        "plt.subplot(1, 2, 1)\n",
        "for name, history in all_histories.items():\n",
        "    plt.plot(history.history['val_accuracy'], label=name)\n",
        "plt.title('Validation Accuracy Comparison')\n",
        "plt.ylabel('Validation Accuracy')\n",
        "plt.xlabel('Epoch')\n",
        "plt.legend(loc='lower right')\n",
        "plt.grid(True)\n",
        "\n",
        "# --- Plot Validation Loss ---\n",
        "plt.subplot(1, 2, 2)\n",
        "for name, history in all_histories.items():\n",
        "    plt.plot(history.history['val_loss'], label=name)\n",
        "plt.title('Validation Loss Comparison')\n",
        "plt.ylabel('Validation Loss')\n",
        "plt.xlabel('Epoch')\n",
        "plt.legend(loc='upper right')\n",
        "plt.grid(True)\n",
        "\n",
        "plt.tight_layout()\n",
        "plt.show()"
      ],
      "metadata": {
        "id": "vdznXyFy9Xc4"
      },
      "execution_count": null,
      "outputs": []
    },
    {
      "cell_type": "code",
      "source": [
        "import numpy as np\n",
        "import seaborn as sns\n",
        "from sklearn.metrics import confusion_matrix, classification_report\n",
        "\n",
        "# Kumpulkan semua model object ke dalam satu dictionary\n",
        "# GANTI DENGAN NAMA MODEL OBJECT ANDA\n",
        "all_models = {\n",
        "    \"ResNet50\": resnet_model,\n",
        "    \"EfficientNetB0\": efficientnet_model,\n",
        "    \"DenseNet121\": densenet_model,\n",
        "    \"MobileNetV2\": mobilenet_model,\n",
        "    \"NASNetMobile\": nasnet_model,\n",
        "    \"VGG16\": vgg16_model\n",
        "}\n",
        "\n",
        "# --- 1. Ambil True Labels (Label Sebenarnya) ---\n",
        "# Mengatur ulang generator untuk memastikan urutan data yang benar\n",
        "test_generator.reset()\n",
        "true_labels = test_generator.classes\n",
        "class_names = list(test_generator.class_indices.keys())\n",
        "print(f\"Nama Kelas: {class_names}\")\n",
        "\n",
        "# --- 2. Fungsi untuk Membuat Confusion Matrix ---\n",
        "def plot_confusion_matrix(model, model_name, generator, true_labels, class_names):\n",
        "\n",
        "    # 1. Prediksi Probabilitas\n",
        "    y_pred_proba = model.predict(generator)\n",
        "\n",
        "    # 2. Konversi Probabilitas ke Label Biner (0 atau 1)\n",
        "    # Karena ini klasifikasi biner dengan sigmoid, kita gunakan threshold 0.5\n",
        "    y_pred_binary = (y_pred_proba > 0.5).astype(\"int32\")\n",
        "\n",
        "    # 3. Hitung Confusion Matrix\n",
        "    cm = confusion_matrix(true_labels, y_pred_binary)\n",
        "\n",
        "    # 4. Visualisasi\n",
        "    plt.figure(figsize=(5, 4))\n",
        "    sns.heatmap(cm, annot=True, fmt='d', cmap='Blues',\n",
        "                xticklabels=class_names, yticklabels=class_names)\n",
        "    plt.title(f'Confusion Matrix: {model_name}')\n",
        "    plt.ylabel('True Label')\n",
        "    plt.xlabel('Predicted Label')\n",
        "    plt.show()\n",
        "\n",
        "    # 5. Tampilkan Classification Report (Precision, Recall, F1-Score)\n",
        "    print(f\"\\nClassification Report for {model_name}:\")\n",
        "    print(classification_report(true_labels, y_pred_binary, target_names=class_names))\n",
        "\n",
        "# --- 3. Eksekusi untuk Setiap Model ---\n",
        "for name, model in all_models.items():\n",
        "    print(f\"\\n===========================================\")\n",
        "    print(f\"Menganalisis Kinerja: {name}\")\n",
        "\n",
        "    # Reset generator sebelum prediksi untuk memastikan urutan data\n",
        "    test_generator.reset()\n",
        "\n",
        "    # Plot dan Report\n",
        "    plot_confusion_matrix(model, name, test_generator, true_labels, class_names)"
      ],
      "metadata": {
        "id": "VmPvoM7r9b4g"
      },
      "execution_count": null,
      "outputs": []
    },
    {
      "cell_type": "code",
      "source": [
        "import pandas as pd\n",
        "import numpy as np\n",
        "from sklearn.metrics import classification_report\n",
        "import time\n",
        "\n",
        "# Asumsi: all_models dan test_generator sudah didefinisikan dari langkah sebelumnya\n",
        "\n",
        "# Kumpulkan semua history object dan model object\n",
        "all_histories = {\n",
        "    \"ResNet50\": resnet_history,\n",
        "    \"EfficientNet\": efficientnet_history, # Dianggap EfficientNetB0\n",
        "    \"DenseNet\": densenet_history, # Dianggap DenseNet121\n",
        "    \"MobileNetV2\": mobilenet_history,\n",
        "    \"NASNetMobile\": nasnet_history,\n",
        "    \"VGG16\": vgg16_history\n",
        "}\n",
        "all_models = {\n",
        "    \"ResNet50\": resnet_model,\n",
        "    \"EfficientNet\": efficientnet_model,\n",
        "    \"DenseNet\": densenet_model,\n",
        "    \"MobileNetV2\": mobilenet_model,\n",
        "    \"NASNetMobile\": nasnet_model,\n",
        "    \"VGG16\": vgg16_model\n",
        "}\n",
        "\n",
        "# Inisialisasi daftar untuk menampung data\n",
        "data_rows = []\n",
        "NUM_INFERENCE_TESTS = 100 # Jumlah gambar yang akan diuji untuk Inference Speed\n",
        "input_shape = IMG_SIZE + (3,)\n",
        "\n",
        "# --- Loop Melalui Setiap Model ---\n",
        "for name, model in all_models.items():\n",
        "    print(f\"Memproses metrik untuk: {name}...\")\n",
        "\n",
        "    # A. Prediksi dan Laporan Klasifikasi\n",
        "    test_generator.reset()\n",
        "    true_labels = test_generator.classes\n",
        "\n",
        "    # Dapatkan prediksi probabilitas\n",
        "    y_pred_proba = model.predict(test_generator)\n",
        "    y_pred_binary = (y_pred_proba > 0.5).astype(\"int32\")\n",
        "\n",
        "    # Hitung Classification Report\n",
        "    report = classification_report(true_labels, y_pred_binary, output_dict=True, zero_division=0)\n",
        "\n",
        "    # Karena ini biner, kita bisa gunakan rata-rata 'weighted avg' dari report\n",
        "    accuracy = report['accuracy']\n",
        "    precision = report['weighted avg']['precision']\n",
        "    recall = report['weighted avg']['recall']\n",
        "    f1_score = report['weighted avg']['f1-score']\n",
        "\n",
        "    # B. Waktu Pelatihan (Training Time) dan Epoch\n",
        "\n",
        "    # Early Stopping menghentikan training, jadi kita ambil epoch terakhir yang sebenarnya\n",
        "    epochs_used = len(all_histories[name].history['loss'])\n",
        "    # Colab tidak memberikan waktu per epoch, jadi kita akan hitung total waktu\n",
        "    # NOTE: Anda harus MENCATAT MANUAL total waktu training dari Colab Output!\n",
        "    # Di sini, kita akan menggunakan nilai placeholder yang realistis:\n",
        "\n",
        "    # Placeholder Waktu (GANTI dengan data manual Anda)\n",
        "    if name == 'MobileNetV2':\n",
        "        training_time = \"5m:10s\"\n",
        "    elif name == 'EfficientNet':\n",
        "        training_time = \"6m:40s\"\n",
        "    elif name == 'ResNet50':\n",
        "        training_time = \"8m:50s\"\n",
        "    elif name == 'VGG16':\n",
        "        training_time = \"10m:20s\"\n",
        "    else:\n",
        "        training_time = f\"{epochs_used} E\" # Placeholder jika waktu tidak tersedia\n",
        "\n",
        "    # C. Inference Speed (Waktu Prediksi)\n",
        "\n",
        "    # Buat data dummy untuk inferensi\n",
        "    dummy_input = np.random.rand(NUM_INFERENCE_TESTS, input_shape[0], input_shape[1], input_shape[2])\n",
        "\n",
        "    start_time = time.time()\n",
        "    # Lakukan prediksi pada data dummy untuk mendapatkan waktu yang akurat\n",
        "    model.predict(dummy_input, verbose=0)\n",
        "    end_time = time.time()\n",
        "\n",
        "    # Kecepatan Inferensi: Waktu per gambar (detik/gambar)\n",
        "    inference_speed = (end_time - start_time) / NUM_INFERENCE_TESTS\n",
        "\n",
        "    # Tambahkan baris data\n",
        "    data_rows.append({\n",
        "        'Model': name,\n",
        "        'Accuracy': f\"{accuracy:.4f}\",\n",
        "        'Precision': f\"{precision:.4f}\",\n",
        "        'Recall': f\"{recall:.4f}\",\n",
        "        'F1-score': f\"{f1_score:.4f}\",\n",
        "        'Epoch': epochs_used,\n",
        "        'Training Time (Manual)': training_time,\n",
        "        'Inference Speed (s/img)': f\"{inference_speed:.4f}\"\n",
        "    })\n",
        "\n",
        "# Buat DataFrame\n",
        "df_comparison = pd.DataFrame(data_rows)\n",
        "df_comparison = df_comparison.sort_values(by='Accuracy', ascending=False)"
      ],
      "metadata": {
        "id": "q4qu8P3L9gAe"
      },
      "execution_count": null,
      "outputs": []
    },
    {
      "cell_type": "code",
      "source": [
        "print(\"\\n=========================================================================\")\n",
        "print(\"Tabel 1. Perbandingan Metrik Kinerja Model Klasifikasi Sampah\")\n",
        "print(\"=========================================================================\")\n",
        "print(df_comparison.to_markdown(index=False, numalign=\"left\", stralign=\"left\"))"
      ],
      "metadata": {
        "id": "z0sc115o9ghU"
      },
      "execution_count": null,
      "outputs": []
    }
  ]
}